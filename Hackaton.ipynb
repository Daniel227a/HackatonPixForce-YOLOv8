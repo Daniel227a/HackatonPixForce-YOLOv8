{
  "cells": [
    {
      "cell_type": "code",
      "execution_count": null,
      "metadata": {
        "id": "8eJ62h0bFrsv"
      },
      "outputs": [],
      "source": [
        "# Instalação das bibliotecas necessárias\n",
        "!pip install ultralytics\n",
        "!pip install git+https://github.com/ultralytics/ultralytics.git@main"
      ]
    },
    {
      "cell_type": "code",
      "execution_count": null,
      "metadata": {
        "id": "m1fXLzRgFtWP",
        "colab": {
          "base_uri": "https://localhost:8080/"
        },
        "outputId": "111fac42-bbe0-4fa6-a55a-7ef92585569f"
      },
      "outputs": [
        {
          "output_type": "stream",
          "name": "stdout",
          "text": [
            "Mounted at /content/gdrive\n"
          ]
        }
      ],
      "source": [
        "# Conecta com sua conta no Drive\n",
        "from google.colab import drive\n",
        "drive.mount('/content/gdrive')"
      ]
    },
    {
      "cell_type": "code",
      "execution_count": null,
      "metadata": {
        "id": "_LI-RdH0GCXn"
      },
      "outputs": [],
      "source": [
        "# Importa as bibliotecas utilizadas\n",
        "import os\n",
        "from ultralytics import YOLO\n",
        "import numpy as np\n",
        "import matplotlib.pyplot as plt\n",
        "import csv"
      ]
    },
    {
      "cell_type": "code",
      "source": [
        "# Substitua pelo caminho onde se encontra este notebook\n",
        "ROOT_DIR = '/content/gdrive/MyDrive/Hackaton'"
      ],
      "metadata": {
        "id": "bdCyKqWb5M1P"
      },
      "execution_count": null,
      "outputs": []
    },
    {
      "cell_type": "code",
      "source": [
        "# Carrega um modelo utilizando YOLO\n",
        "def loadModel(path):\n",
        "  return YOLO(path)"
      ],
      "metadata": {
        "id": "S-CAuNVONY92"
      },
      "execution_count": null,
      "outputs": []
    },
    {
      "cell_type": "code",
      "source": [
        "# Realiza a predição de uma imagem\n",
        "def predict(image, model):\n",
        "  return model(image, conf=0.4)"
      ],
      "metadata": {
        "id": "9Pr6Xma1NnGZ"
      },
      "execution_count": null,
      "outputs": []
    },
    {
      "cell_type": "code",
      "source": [
        "# Exibe a imagem após a predição\n",
        "def plotImage(results):\n",
        "  img_inferred= results[0].plot()\n",
        "  plt.figure(figsize=(10, 10))\n",
        "  plt.imshow(img_inferred)\n",
        "  plt.xticks([]), plt.yticks([])\n",
        "  plt.show()"
      ],
      "metadata": {
        "id": "exLiy56AY08M"
      },
      "execution_count": null,
      "outputs": []
    },
    {
      "cell_type": "code",
      "source": [
        "# Define qual tipo de simulado está sendo usado e retorna o modelo correspondente\n",
        "def simulados(image, model):\n",
        "  modelo = loadModel(model)\n",
        "  results = predict(image, modelo)\n",
        "  names_dict = results[0].names\n",
        "  probs = results[0].probs.data.tolist()\n",
        "  tipo = names_dict[np.argmax(probs)]\n",
        "  print(tipo)\n",
        "  if(tipo == 'blue'):\n",
        "    return YOLO(os.path.join(ROOT_DIR, 'modelos/modeloAzulLast.pt'))\n",
        "  elif (tipo == 'green'):\n",
        "    return YOLO(os.path.join(ROOT_DIR, 'modelos/modeloVerdeLast.pt'))\n",
        "  else:\n",
        "    return YOLO(os.path.join(ROOT_DIR, 'modelos/diversos.pt'))"
      ],
      "metadata": {
        "id": "5JevViZ_N014"
      },
      "execution_count": null,
      "outputs": []
    },
    {
      "cell_type": "code",
      "source": [
        "# Analisa as detecções e retorna um dicionário ordenado pela questão e sua respectiva resposta\n",
        "def resposta(image, modelo):\n",
        "  results = predict(image, modelo)\n",
        "  plotImage(results)\n",
        "  names_dict = results[0].names\n",
        "\n",
        "  for r in results:\n",
        "    classes = r.boxes.cls.tolist()\n",
        "    boxes = r.boxes.xywh.tolist()\n",
        "  classe = []\n",
        "  for item in classes:\n",
        "    classe.append(names_dict[int(item)])\n",
        "  for i in range(0, len(boxes)):\n",
        "    boxes[i].append(classe[i])\n",
        "\n",
        "# Ordena os boxes primeiro pelo eixo X e em seguida pelo eixo Y\n",
        "  lista = []\n",
        "  while len(boxes) > 0:\n",
        "    x_min = min(item[0] for item in boxes)\n",
        "    ordenado_x = []\n",
        "    for item in boxes:\n",
        "      if(item[0] > x_min - 50 and item[0] < x_min + 50):\n",
        "        ordenado_x.append(item)\n",
        "    ordem = sorted(ordenado_x, key=lambda x: x[1])\n",
        "    boxes = [x for x in boxes if x not in ordenado_x]\n",
        "    lista.append(ordem)\n",
        "\n",
        "  respostas = {}\n",
        "  i = 0\n",
        "  for sublista in lista:\n",
        "    for item in sublista:\n",
        "      i += 1\n",
        "      respostas[i] = item[4]\n",
        "  return respostas"
      ],
      "metadata": {
        "id": "cwn4ufuMOYGf"
      },
      "execution_count": null,
      "outputs": []
    },
    {
      "cell_type": "code",
      "source": [
        "# Realiza a comparação entre as respostas e o gabarito e retorna a quantidade de respostas certas\n",
        "def resultado(gabarito, respostas):\n",
        "\n",
        "  acertos = 0\n",
        "  if len(gabarito) > len(respostas):\n",
        "    for key, value in respostas.items():\n",
        "      if gabarito[key] == value:\n",
        "        acertos += 1\n",
        "  else:\n",
        "    for key, value in gabarito.items():\n",
        "      if respostas[key] == value:\n",
        "        acertos += 1\n",
        "\n",
        "  return 'Você acertou: ' + str(acertos) + '/' + str(len(gabarito))"
      ],
      "metadata": {
        "id": "AVVlTMQGP34o"
      },
      "execution_count": null,
      "outputs": []
    },
    {
      "cell_type": "code",
      "source": [
        "# Diferencia se a imagem é uma prova ou um simulado\n",
        "def provaSimulado(image, model):\n",
        "  modelo = loadModel(model)\n",
        "  results = predict(image, modelo)\n",
        "  names_dict = results[0].names\n",
        "  probs = results[0].probs.data.tolist()\n",
        "  tipo = names_dict[np.argmax(probs)]\n",
        "  if(tipo == 'prova'):\n",
        "    modelo = YOLO(os.path.join(ROOT_DIR, 'modelos/prova.pt'))\n",
        "    results = predict(image, modelo)\n",
        "    names_dict = results[0].names\n",
        "    for r in results:\n",
        "      classes = r.boxes.cls.tolist()\n",
        "\n",
        "    classe = []\n",
        "    for item in classes:\n",
        "      classe.append(names_dict[int(item)])\n",
        "\n",
        "    acertos = 0\n",
        "    if len(gabarito) > len(classe):\n",
        "      for i in range(0, len(classe)):\n",
        "        if gabarito[i] == classe[i]:\n",
        "          acertos += 1\n",
        "    else:\n",
        "      for i in range(0, len(gabarito)):\n",
        "        if gabarito[i] == classe[i]:\n",
        "          acertos += 1\n",
        "\n",
        "    return 'Você acertou: ' + str(acertos) + '/' + str(len(gabarito))\n",
        "\n",
        "  else:\n",
        "    modelo = os.path.join(ROOT_DIR, 'modelos/diferenciaSimuladosLast.pt')\n",
        "    model = simulados(image, modelo)\n",
        "    respostas = resposta(image, model)\n",
        "    return respostas"
      ],
      "metadata": {
        "id": "FC-ClI5I_TZF"
      },
      "execution_count": null,
      "outputs": []
    },
    {
      "cell_type": "code",
      "source": [
        "# Define o gabarito\n",
        "def geraGabarito(image, model):\n",
        "  modelo = loadModel(model)\n",
        "  results = predict(image, modelo)\n",
        "  names_dict = results[0].names\n",
        "  probs = results[0].probs.data.tolist()\n",
        "  tipo = names_dict[np.argmax(probs)]\n",
        "  if(tipo == 'prova'):\n",
        "    modelo = YOLO(os.path.join(ROOT_DIR, 'modelos/prova.pt'))\n",
        "    results = predict(image, modelo)\n",
        "    names_dict = results[0].names\n",
        "    for r in results:\n",
        "      classes = r.boxes.cls.tolist()\n",
        "\n",
        "    classe = []\n",
        "    for item in classes:\n",
        "      classe.append(names_dict[int(item)])\n",
        "    return classe\n",
        "  else:\n",
        "    modelo = os.path.join(ROOT_DIR, 'modelos/diferenciaSimuladosLast.pt')\n",
        "    model = simulados(image, modelo)\n",
        "    return resposta(image, model)\n"
      ],
      "metadata": {
        "id": "UqQ3ERDbQroV"
      },
      "execution_count": null,
      "outputs": []
    },
    {
      "cell_type": "code",
      "source": [
        "def relatorio(gabarito, respostas):\n",
        "  nome_arquivo = os.path.join(ROOT_DIR, 'relatorio.csv')\n",
        "\n",
        "  # Abrir o arquivo CSV em modo de escrita\n",
        "  with open(nome_arquivo, 'w', newline='') as arquivo_csv:\n",
        "      # Criar o objeto de escrita CSV\n",
        "      escritor_csv = csv.writer(arquivo_csv)\n",
        "\n",
        "      # Escrever os dados do primeiro dicionário no CSV\n",
        "      escritor_csv.writerow(['Questões'] + list(gabarito.keys()))\n",
        "      escritor_csv.writerow(['Gabarito'] + list(gabarito.values()))\n",
        "\n",
        "      # Escrever os dados do segundo dicionário no CSV\n",
        "      escritor_csv.writerow(['Respostas'] + list(respostas.values()))\n",
        "      lista = []\n",
        "      if len(gabarito) > len(respostas):\n",
        "        for i in range(1, len(respostas)+1):\n",
        "          if gabarito[i] == respostas[i]:\n",
        "            lista.append('Certo')\n",
        "          else:\n",
        "            lista.append('Errado')\n",
        "      else:\n",
        "        for i in range(1, len(respostas)+1):\n",
        "          if gabarito[i] == respostas[i]:\n",
        "            lista.append('Certo')\n",
        "          else:\n",
        "            lista.append('Errado')\n",
        "      escritor_csv.writerow(['Comparação'] + lista)"
      ],
      "metadata": {
        "id": "AIkz-hEm2dHa"
      },
      "execution_count": null,
      "outputs": []
    },
    {
      "cell_type": "code",
      "source": [
        "# Define o caminho do modelo inicial\n",
        "pathModel = os.path.join(ROOT_DIR, 'modelos/provaGabarito.pt')\n",
        "\n",
        "# Altere para o caminho da imagem que quer classificar\n",
        "pathImageClassificar = os.path.join(ROOT_DIR, 'IMG_4508_JPG.rf.97aa730b7b0b6851d877ddd751d71b82.jpg')\n",
        "\n",
        "# Altere para o caminho da imagem de gabarito\n",
        "pathImageGabarito = os.path.join(ROOT_DIR, 'IMG_4515_JPG_jpg.rf.5002e1328a32bbf247c7b194f4143704.jpg')\n",
        "\n",
        "gabarito = geraGabarito(pathImageGabarito, pathModel)\n",
        "print('Gabarito: ' + str(gabarito))\n",
        "respostas = provaSimulado(pathImageClassificar, pathModel)\n",
        "print('Respostas: ' + str(respostas))\n",
        "result = resultado(gabarito, respostas)\n",
        "print(result)\n",
        "relatorio(gabarito, respostas)"
      ],
      "metadata": {
        "id": "urnxToBLQRYG"
      },
      "execution_count": null,
      "outputs": []
    }
  ],
  "metadata": {
    "colab": {
      "provenance": []
    },
    "kernelspec": {
      "display_name": "Python 3",
      "name": "python3"
    },
    "language_info": {
      "name": "python"
    }
  },
  "nbformat": 4,
  "nbformat_minor": 0
}